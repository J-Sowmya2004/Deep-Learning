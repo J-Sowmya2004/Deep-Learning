{
  "nbformat": 4,
  "nbformat_minor": 0,
  "metadata": {
    "colab": {
      "provenance": [],
      "authorship_tag": "ABX9TyO45f9N6HmAi4OWBedFn24u",
      "include_colab_link": true
    },
    "kernelspec": {
      "name": "python3",
      "display_name": "Python 3"
    },
    "language_info": {
      "name": "python"
    }
  },
  "cells": [
    {
      "cell_type": "markdown",
      "metadata": {
        "id": "view-in-github",
        "colab_type": "text"
      },
      "source": [
        "<a href=\"https://colab.research.google.com/github/J-Sowmya2004/lab1/blob/main/lab1.ipynb\" target=\"_parent\"><img src=\"https://colab.research.google.com/assets/colab-badge.svg\" alt=\"Open In Colab\"/></a>"
      ]
    },
    {
      "cell_type": "code",
      "source": [
        "a=[[1,2,3],\n",
        "   [4,5,6],\n",
        "   [7,8,8]]\n",
        "b=[[4,6,7],\n",
        "   [6,3,8],\n",
        "   [3,5,6]]\n",
        "res=[[0,0,0],\n",
        "     [0,0,0],\n",
        "     [0,0,0]] #result of addition of matrix will be stored here\n",
        "for i in range(len(a)):#len(a) gives no.of rows\n",
        "  for j in range(len(a)):#len(a[0] gives no.of columns)\n",
        "    res[i][j]=a[i][j]+b[i][j]#adds corresponding elements and stores in result\n",
        "for r in res:#each row(r) in result\n",
        "  print(r)"
      ],
      "metadata": {
        "colab": {
          "base_uri": "https://localhost:8080/"
        },
        "id": "9dnoSpBaBabi",
        "outputId": "11a5439a-e415-46d2-ce0d-5e6ea2d9a741"
      },
      "execution_count": 8,
      "outputs": [
        {
          "output_type": "stream",
          "name": "stdout",
          "text": [
            "[5, 8, 10]\n",
            "[10, 8, 14]\n",
            "[10, 13, 14]\n"
          ]
        }
      ]
    },
    {
      "cell_type": "code",
      "source": [
        "#addition of matrix\n",
        "n=int(input(\"Enter row,column:\"))\n",
        "a=[]\n",
        "b=[]\n",
        "res=[]\n",
        "print(\"Enter matrix a values\")\n",
        "for i in range(n):\n",
        "  row=list(map(int,input().strip().split()))\n",
        "  a.append(row)#adding new values into the list\n",
        "print(\"Enter matrix b value\")\n",
        "for i in range(n):\n",
        "  row=list(map(int,input().strip().split()))\n",
        "  b.append(row)\n",
        "res=[[0]*n for _ in range(n)]#list comprehention\n",
        "for i in range(n):\n",
        "  for j in range(n):\n",
        "    res[i][j]=a[i][j]+b[i][j]\n",
        "print(\"result matrix\")\n",
        "for r in res:\n",
        "  print(r)"
      ],
      "metadata": {
        "colab": {
          "base_uri": "https://localhost:8080/"
        },
        "id": "vKTc3-TKExe4",
        "outputId": "4a38edb3-7821-403d-c9b1-994df1be850b"
      },
      "execution_count": 19,
      "outputs": [
        {
          "output_type": "stream",
          "name": "stdout",
          "text": [
            "Enter row,column:2\n",
            "Enter matrix a values\n",
            "1 1\n",
            "1 1\n",
            "Enter matrix b value\n",
            "1 1\n",
            "1 1\n",
            "result matrix\n",
            "[2, 2]\n",
            "[2, 2]\n"
          ]
        }
      ]
    },
    {
      "cell_type": "code",
      "source": [
        "#subtraction of matrix\n",
        "n=int(input(\"Enter number\"))\n",
        "a=[]\n",
        "b=[]\n",
        "res=[]\n",
        "print(\"Enter matrix a values\")\n",
        "for i in range(n):\n",
        "  row=list(map(int,input().strip().split()))\n",
        "  a.append(row)\n",
        "print(\"Enter matrix b values\")\n",
        "for i in range(n):\n",
        "  row=list(map(int,input().strip().split()))\n",
        "  b.append(row)\n",
        "res=[[0]*n for _ in range(n)]\n",
        "for i in range(n):\n",
        "  for j in range(n):\n",
        "    res[i][j]=a[i][j]-b[i][j]\n",
        "print(\"Result matrix\")\n",
        "for r in res:\n",
        "  print(r)\n"
      ],
      "metadata": {
        "colab": {
          "base_uri": "https://localhost:8080/"
        },
        "id": "Rbza1qPqO7Sk",
        "outputId": "cc5e390f-ba80-4bb9-8f56-a1b64e778c86"
      },
      "execution_count": 23,
      "outputs": [
        {
          "output_type": "stream",
          "name": "stdout",
          "text": [
            "Enter number2\n",
            "Enter matrix a values\n",
            "1 1\n",
            "1 1\n",
            "Enter matrix b values\n",
            "1 1\n",
            "1 1\n",
            "Result matrix\n",
            "[0, 0]\n",
            "[0, 0]\n"
          ]
        }
      ]
    },
    {
      "cell_type": "code",
      "source": [
        "#multiplication of matrix\n",
        "n=int(input(\"Enter value\"))\n",
        "a=[]\n",
        "b=[]\n",
        "res=[]\n",
        "print(\"Enter matrix a\")\n",
        "for i in range(n):\n",
        "  row=list(map(int,input().strip().split()))\n",
        "  a.append(row)\n",
        "print(\"Enter matrix b\")\n",
        "for i in range(n):\n",
        "  row=list(map(int,input().strip().split()))\n",
        "  b.append(row)\n",
        "res=[[0]*n for _ in range(n)]\n",
        "for i in range(n):\n",
        "  for j in range(n):\n",
        "    res[i][j]=a[i][j]*b[i][j]\n",
        "for r in res:\n",
        "  print(r)"
      ],
      "metadata": {
        "colab": {
          "base_uri": "https://localhost:8080/"
        },
        "id": "5nhPsvDdTTtJ",
        "outputId": "82a16d66-ea2a-4e27-e754-7b4f46c5e0ed"
      },
      "execution_count": 25,
      "outputs": [
        {
          "output_type": "stream",
          "name": "stdout",
          "text": [
            "Enter value2\n",
            "Enter matrix a\n",
            "1 1\n",
            "1 1\n",
            "Enter matrix b\n",
            "1 1\n",
            "1 1\n",
            "[1, 1]\n",
            "[1, 1]\n"
          ]
        }
      ]
    }
  ]
}